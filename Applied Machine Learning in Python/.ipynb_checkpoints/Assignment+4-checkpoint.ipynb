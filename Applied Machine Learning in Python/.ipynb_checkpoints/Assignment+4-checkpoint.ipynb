{
 "cells": [
  {
   "cell_type": "markdown",
   "metadata": {},
   "source": [
    "---\n",
    "\n",
    "_You are currently looking at **version 1.1** of this notebook. To download notebooks and datafiles, as well as get help on Jupyter notebooks in the Coursera platform, visit the [Jupyter Notebook FAQ](https://www.coursera.org/learn/python-machine-learning/resources/bANLa) course resource._\n",
    "\n",
    "---"
   ]
  },
  {
   "cell_type": "markdown",
   "metadata": {},
   "source": [
    "## Assignment 4 - Understanding and Predicting Property Maintenance Fines\n",
    "\n",
    "This assignment is based on a data challenge from the Michigan Data Science Team ([MDST](http://midas.umich.edu/mdst/)). \n",
    "\n",
    "The Michigan Data Science Team ([MDST](http://midas.umich.edu/mdst/)) and the Michigan Student Symposium for Interdisciplinary Statistical Sciences ([MSSISS](https://sites.lsa.umich.edu/mssiss/)) have partnered with the City of Detroit to help solve one of the most pressing problems facing Detroit - blight. [Blight violations](http://www.detroitmi.gov/How-Do-I/Report/Blight-Complaint-FAQs) are issued by the city to individuals who allow their properties to remain in a deteriorated condition. Every year, the city of Detroit issues millions of dollars in fines to residents and every year, many of these fines remain unpaid. Enforcing unpaid blight fines is a costly and tedious process, so the city wants to know: how can we increase blight ticket compliance?\n",
    "\n",
    "The first step in answering this question is understanding when and why a resident might fail to comply with a blight ticket. This is where predictive modeling comes in. For this assignment, your task is to predict whether a given blight ticket will be paid on time.\n",
    "\n",
    "All data for this assignment has been provided to us through the [Detroit Open Data Portal](https://data.detroitmi.gov/). **Only the data already included in your Coursera directory can be used for training the model for this assignment.** Nonetheless, we encourage you to look into data from other Detroit datasets to help inform feature creation and model selection. We recommend taking a look at the following related datasets:\n",
    "\n",
    "* [Building Permits](https://data.detroitmi.gov/Property-Parcels/Building-Permits/xw2a-a7tf)\n",
    "* [Trades Permits](https://data.detroitmi.gov/Property-Parcels/Trades-Permits/635b-dsgv)\n",
    "* [Improve Detroit: Submitted Issues](https://data.detroitmi.gov/Government/Improve-Detroit-Submitted-Issues/fwz3-w3yn)\n",
    "* [DPD: Citizen Complaints](https://data.detroitmi.gov/Public-Safety/DPD-Citizen-Complaints-2016/kahe-efs3)\n",
    "* [Parcel Map](https://data.detroitmi.gov/Property-Parcels/Parcel-Map/fxkw-udwf)\n",
    "\n",
    "___\n",
    "\n",
    "We provide you with two data files for use in training and validating your models: train.csv and test.csv. Each row in these two files corresponds to a single blight ticket, and includes information about when, why, and to whom each ticket was issued. The target variable is compliance, which is True if the ticket was paid early, on time, or within one month of the hearing data, False if the ticket was paid after the hearing date or not at all, and Null if the violator was found not responsible. Compliance, as well as a handful of other variables that will not be available at test-time, are only included in train.csv.\n",
    "\n",
    "Note: All tickets where the violators were found not responsible are not considered during evaluation. They are included in the training set as an additional source of data for visualization, and to enable unsupervised and semi-supervised approaches. However, they are not included in the test set.\n",
    "\n",
    "<br>\n",
    "\n",
    "**File descriptions** (Use only this data for training your model!)\n",
    "\n",
    "    readonly/train.csv - the training set (all tickets issued 2004-2011)\n",
    "    readonly/test.csv - the test set (all tickets issued 2012-2016)\n",
    "    readonly/addresses.csv & readonly/latlons.csv - mapping from ticket id to addresses, and from addresses to lat/lon coordinates. \n",
    "     Note: misspelled addresses may be incorrectly geolocated.\n",
    "\n",
    "<br>\n",
    "\n",
    "**Data fields**\n",
    "\n",
    "train.csv & test.csv\n",
    "\n",
    "    ticket_id - unique identifier for tickets\n",
    "    agency_name - Agency that issued the ticket\n",
    "    inspector_name - Name of inspector that issued the ticket\n",
    "    violator_name - Name of the person/organization that the ticket was issued to\n",
    "    violation_street_number, violation_street_name, violation_zip_code - Address where the violation occurred\n",
    "    mailing_address_str_number, mailing_address_str_name, city, state, zip_code, non_us_str_code, country - Mailing address of the violator\n",
    "    ticket_issued_date - Date and time the ticket was issued\n",
    "    hearing_date - Date and time the violator's hearing was scheduled\n",
    "    violation_code, violation_description - Type of violation\n",
    "    disposition - Judgment and judgement type\n",
    "    fine_amount - Violation fine amount, excluding fees\n",
    "    admin_fee - $20 fee assigned to responsible judgments\n",
    "state_fee - $10 fee assigned to responsible judgments\n",
    "    late_fee - 10% fee assigned to responsible judgments\n",
    "    discount_amount - discount applied, if any\n",
    "    clean_up_cost - DPW clean-up or graffiti removal cost\n",
    "    judgment_amount - Sum of all fines and fees\n",
    "    grafitti_status - Flag for graffiti violations\n",
    "    \n",
    "train.csv only\n",
    "\n",
    "    payment_amount - Amount paid, if any\n",
    "    payment_date - Date payment was made, if it was received\n",
    "    payment_status - Current payment status as of Feb 1 2017\n",
    "    balance_due - Fines and fees still owed\n",
    "    collection_status - Flag for payments in collections\n",
    "    compliance [target variable for prediction] \n",
    "     Null = Not responsible\n",
    "     0 = Responsible, non-compliant\n",
    "     1 = Responsible, compliant\n",
    "    compliance_detail - More information on why each ticket was marked compliant or non-compliant\n",
    "\n",
    "\n",
    "___\n",
    "\n",
    "## Evaluation\n",
    "\n",
    "Your predictions will be given as the probability that the corresponding blight ticket will be paid on time.\n",
    "\n",
    "The evaluation metric for this assignment is the Area Under the ROC Curve (AUC). \n",
    "\n",
    "Your grade will be based on the AUC score computed for your classifier. A model which with an AUROC of 0.7 passes this assignment, over 0.75 will recieve full points.\n",
    "___\n",
    "\n",
    "For this assignment, create a function that trains a model to predict blight ticket compliance in Detroit using `readonly/train.csv`. Using this model, return a series of length 61001 with the data being the probability that each corresponding ticket from `readonly/test.csv` will be paid, and the index being the ticket_id.\n",
    "\n",
    "Example:\n",
    "\n",
    "    ticket_id\n",
    "       284932    0.531842\n",
    "       285362    0.401958\n",
    "       285361    0.105928\n",
    "       285338    0.018572\n",
    "                 ...\n",
    "       376499    0.208567\n",
    "       376500    0.818759\n",
    "       369851    0.018528\n",
    "       Name: compliance, dtype: float32\n",
    "       \n",
    "### Hints\n",
    "\n",
    "* Make sure your code is working before submitting it to the autograder.\n",
    "\n",
    "* Print out your result to see whether there is anything weird (e.g., all probabilities are the same).\n",
    "\n",
    "* Generally the total runtime should be less than 10 mins. You should NOT use Neural Network related classifiers (e.g., MLPClassifier) in this question. \n",
    "\n",
    "* Try to avoid global variables. If you have other functions besides blight_model, you should move those functions inside the scope of blight_model.\n",
    "\n",
    "* Refer to the pinned threads in Week 4's discussion forum when there is something you could not figure it out."
   ]
  },
  {
   "cell_type": "markdown",
   "metadata": {},
   "source": [
    "# keep same dummy\n",
    "https://stackoverflow.com/questions/41335718/keep-same-dummy-variable-in-training-and-testing-data"
   ]
  },
  {
   "cell_type": "code",
   "execution_count": 1,
   "metadata": {},
   "outputs": [],
   "source": [
    "import pandas as pd\n",
    "import numpy as np\n",
    "import matplotlib.pyplot as plt\n",
    "import re\n",
    "%matplotlib notebook"
   ]
  },
  {
   "cell_type": "code",
   "execution_count": 2,
   "metadata": {},
   "outputs": [
    {
     "name": "stdout",
     "output_type": "stream",
     "text": [
      "---> 1. read_data and exclude complicance is null and feature that's not in test set\n",
      "# of na in target: 90426\n"
     ]
    }
   ],
   "source": [
    "print(\"---> 1. read_data and exclude complicance is null and feature that's not in test set\")\n",
    "\n",
    "data_train = pd.read_csv(\"train.csv\", encoding = 'ISO-8859-1' , low_memory=False)\n",
    "data_test = pd.read_csv(\"test.csv\", encoding = 'utf-8-sig')\n",
    "data_address = pd.read_csv(\"addresses.csv\", encoding = 'utf-8-sig')\n",
    "data_latlons = pd.read_csv(\"latlons.csv\", encoding = 'utf-8-sig')\n",
    "data_address_all = pd.merge(data_address, data_latlons, on = \"address\", how = 'inner')\n",
    "\n",
    "# check ticket_id in data_address_all for train and test data\n",
    "data_train[~data_train[\"ticket_id\"].isin(data_address_all[\"ticket_id\"])].shape\n",
    "data_test[~data_test[\"ticket_id\"].isin(data_address_all[\"ticket_id\"])].shape\n",
    "\n",
    "data_train = pd.merge(data_train, data_address_all, on = 'ticket_id', how = 'left')\n",
    "data_test = pd.merge(data_test, data_address_all, on = 'ticket_id', how = 'left')\n",
    "\n",
    "# exclude compliance is null\n",
    "print(\"# of na in target:\", data_train[pd.isnull(data_train[\"compliance\"])].shape[0])\n",
    "data_train = data_train[pd.notnull(data_train[\"compliance\"])]\n",
    "\n",
    "\n",
    "# exclude feature that's not in test set as well as some useless feature\n",
    "# useless: 'inspector_name', 'violator_name', 'admin_fee', 'state_fee', 'late_fee', 'clean_up_cost'\n",
    "#           'judgment_amount' -> correlation with fine_amount, 'grafitti_status' -> na\n",
    "#           'violation_street_name' -> same as address\n",
    "\n",
    "# note: check 'hearing_date' and 'ticket_issued_date' useful or not\n",
    "col_keep = ['ticket_id', 'agency_name', \\\n",
    "            'city', 'state',\\\n",
    "           'violation_code', 'disposition', 'fine_amount',\\\n",
    "           'discount_amount', 'address']\n",
    "       \n",
    "data_test = data_test[col_keep]       \n",
    "#data_train_target = data_train[[\"compliance\"]]\n",
    "col_keep.append(\"compliance\")\n",
    "data_train = data_train[col_keep]"
   ]
  },
  {
   "cell_type": "code",
   "execution_count": 3,
   "metadata": {},
   "outputs": [],
   "source": [
    "# variable used: agency_name, top 5 city, top 5 states, top 5 violation code, disposition, fine_amount, discount_amount\n",
    "#                top 5 violation street\n",
    "\n",
    "\n",
    "# top 5 city\n",
    "# change the city name to upper case since there are mix in the data\n",
    "data_train[\"city\"] = data_train[\"city\"].apply(lambda row: str(row).upper().strip())\n",
    "data_test[\"city\"] = data_test[\"city\"].apply(lambda row: str(row).upper().strip())\n",
    "\n",
    "\n",
    "# get top 5 ticket issued state\n",
    "top_5_high_ticket_state = data_train.groupby(by=[\"state\"])[\"ticket_id\"] \\\n",
    "                        .size().reset_index() \\\n",
    "                        .sort_values(by=\"ticket_id\", ascending = False)[:5][\"state\"].tolist()\n",
    "\n",
    "data_train_top5_state = data_train[data_train[\"state\"].isin(top_5_high_ticket_state)]    \n",
    "\n",
    "# get top 5 violator living city\n",
    "top_5_living_city = data_train.groupby(by=[\"city\"])[\"ticket_id\"] \\\n",
    "                        .size().reset_index() \\\n",
    "                        .sort_values(by=\"ticket_id\", ascending = False)[:5][\"city\"].tolist()\n",
    "data_train_top5_living_city = data_train[data_train[\"city\"].isin(top_5_living_city)]  \n",
    "\n",
    "\n",
    "\n",
    "# get top 5 violation code\n",
    "top_5_violation_code = data_train.groupby(by=[\"violation_code\"])[\"ticket_id\"] \\\n",
    "                        .size().reset_index() \\\n",
    "                        .sort_values(by=\"ticket_id\", ascending = False)[:5][\"violation_code\"].tolist()\n",
    "data_train_top5_violation = data_train[data_train[\"violation_code\"].isin(top_5_violation_code)]  \n",
    "\n",
    "# top 5 violation street\n",
    "# extract part of the violation address\n",
    "data_train[\"violation_street\"] = data_train[\"address\"].apply(lambda row: re.split(\",\", row)[0].strip())\n",
    "data_train[\"violation_street\"] = data_train[\"violation_street\"].apply(lambda row: re.findall(\"[A-Za-z].*\", row.strip())[0])          \n",
    "data_test[\"violation_street\"] = data_test[\"address\"].apply(lambda row: re.split(\",\", row)[0].strip())\n",
    "data_test[\"violation_street\"] = data_test[\"violation_street\"].apply(lambda row: re.findall(\"[A-Za-z].*\", row.strip())[0])          \n",
    "\n",
    "\n",
    "# get top 5 road\n",
    "top_5_violation_street = data_train.groupby(by=[\"violation_street\"])[\"ticket_id\"] \\\n",
    "                        .size().reset_index() \\\n",
    "                        .sort_values(by=\"ticket_id\", ascending = False)[:5][\"violation_street\"].tolist()\n",
    "data_train_top5_vio_str = data_train[data_train[\"violation_street\"].isin(top_5_violation_street)]  \n",
    "\n",
    "\n",
    "# change variable for discount_amount\n",
    "\n",
    "# if discount_amount > 0 then 1 else 0\n",
    "data_train[\"discount_amount\"] = data_train[\"discount_amount\"].apply(lambda row: 1 if row>0 else 0)\n",
    "data_test[\"discount_amount\"] = data_test[\"discount_amount\"].apply(lambda row: 1 if row>0 else 0)\n",
    "#data_train.groupby(by=[\"discount_amount\",\"compliance\"])[\"ticket_id\"].size()"
   ]
  },
  {
   "cell_type": "code",
   "execution_count": 4,
   "metadata": {},
   "outputs": [
    {
     "data": {
      "image/png": "[encoded data removed]",
      "text/plain": [
       "<Figure size 360x360 with 1 Axes>"
      ]
     },
     "metadata": {
      "needs_background": "light"
     },
     "output_type": "display_data"
    },
    {
     "data": {
      "image/png": "[encoded data removed]",
      "text/plain": [
       "<Figure size 360x360 with 1 Axes>"
      ]
     },
     "metadata": {
      "needs_background": "light"
     },
     "output_type": "display_data"
    },
    {
     "data": {
      "image/png": "[encoded data removed]",
      "text/plain": [
       "<Figure size 360x360 with 1 Axes>"
      ]
     },
     "metadata": {
      "needs_background": "light"
     },
     "output_type": "display_data"
    },
    {
     "data": {
      "image/png": "[encoded data removed]",
      "text/plain": [
       "<Figure size 360x360 with 1 Axes>"
      ]
     },
     "metadata": {
      "needs_background": "light"
     },
     "output_type": "display_data"
    },
    {
     "data": {
      "image/png": "[encoded data removed]",
      "text/plain": [
       "<Figure size 360x360 with 1 Axes>"
      ]
     },
     "metadata": {
      "needs_background": "light"
     },
     "output_type": "display_data"
    },
    {
     "data": {
      "image/png": "[encoded data removed]",
      "text/plain": [
       "<Figure size 360x360 with 1 Axes>"
      ]
     },
     "metadata": {
      "needs_background": "light"
     },
     "output_type": "display_data"
    }
   ],
   "source": [
    "# all graphs\n",
    "\n",
    "data_train_top5_living_city.groupby(by=[\"city\",\"compliance\"])[\"ticket_id\"].size().unstack().plot(kind='bar',\n",
    "                                                                                       stacked=False,\n",
    "                                                                                       title = 'top 5 violator living city vs compliance',\n",
    "                                                                                       figsize = (5,5),fontsize = 5)                                                                                                                                                                                                                                               \n",
    "\n",
    "data_train.groupby(by=[\"agency_name\",\"compliance\"])[\"ticket_id\"].size().unstack().plot(kind='bar',\n",
    "                                                                                       stacked=False,\n",
    "                                                                                       title = 'agency_name vs compliance',\n",
    "                                                                                       figsize = (5,5),fontsize = 5)                                                                                                                                                                                                                                               \n",
    "\n",
    "\n",
    "data_train_top5_state.groupby(by=[\"state\",\"compliance\"])[\"ticket_id\"].size().unstack().plot(kind='bar',\n",
    "                                                                                       stacked=False,\n",
    "                                                                                       title = 'top 5 ticket issue state vs compliance',\n",
    "                                                                                       figsize = (5,5),fontsize = 5)  \n",
    "\n",
    "data_train_top5_violation.groupby(by=[\"violation_code\",\"compliance\"])[\"ticket_id\"].size().unstack().plot(kind='bar',\n",
    "                                                                                       stacked=False,\n",
    "                                                                                       title = 'top 5 violation_code vs compliance',\n",
    "                                                                                       figsize = (5,5),fontsize = 5)  \n",
    "\n",
    "data_train.groupby(by=[\"disposition\",\"compliance\"])[\"ticket_id\"].size().unstack().plot(kind='bar',\n",
    "                                                                                       stacked=False,\n",
    "                                                                                       title = 'disposition vs compliance',\n",
    "                                                                                       figsize = (5,5),fontsize = 5)  \n",
    "\n",
    "data_train_top5_vio_str.groupby(by=[\"violation_street\",\"compliance\"])[\"ticket_id\"].size().unstack().plot(kind='bar',\n",
    "                                                                                       stacked=False,\n",
    "                                                                                       title = 'top 5 violation street vs compliance',\n",
    "                                                                                       figsize = (5,5),fontsize = 5)  \n",
    "\n",
    "\n",
    "plt.show()"
   ]
  },
  {
   "cell_type": "code",
   "execution_count": 5,
   "metadata": {},
   "outputs": [
    {
     "name": "stdout",
     "output_type": "stream",
     "text": [
      "---> 2. onehotencode the feature to both data_train & data_test\n"
     ]
    }
   ],
   "source": [
    "print(\"---> 2. onehotencode the feature to both data_train & data_test\")\n",
    "\n",
    "full = [data_train, data_test]\n",
    "for df in full:\n",
    "    for i in range(len(top_5_high_ticket_state)):\n",
    "        df[\"state\" + \"_\" + top_5_high_ticket_state[i]] = 0\n",
    "        df[\"state\" + \"_\" + top_5_high_ticket_state[i]] = np.where(df['state'].str.contains(top_5_high_ticket_state[i]), 1, 0)    \n",
    "        "
   ]
  },
  {
   "cell_type": "code",
   "execution_count": 6,
   "metadata": {},
   "outputs": [],
   "source": [
    "for df in full:\n",
    "    for i in range(len(top_5_living_city)):\n",
    "        df[\"city\" + \"_\" + top_5_living_city[i]] = 0\n",
    "        df[\"city\" + \"_\" + top_5_living_city[i]] = np.where(df['city'].str.contains(top_5_living_city[i]), 1, 0)    "
   ]
  },
  {
   "cell_type": "code",
   "execution_count": 7,
   "metadata": {},
   "outputs": [
    {
     "name": "stderr",
     "output_type": "stream",
     "text": [
      "C:\\Users\\chloe.chou\\AppData\\Local\\Continuum\\anaconda3\\lib\\site-packages\\ipykernel_launcher.py:4: UserWarning: This pattern has match groups. To actually get the groups, use str.extract.\n",
      "  after removing the cwd from sys.path.\n"
     ]
    }
   ],
   "source": [
    "for df in full:\n",
    "    for i in range(len(top_5_violation_code)):\n",
    "        df[\"violation_code\" + \"_\" + top_5_violation_code[i]] = 0\n",
    "        df[\"violation_code\" + \"_\" + top_5_violation_code[i]] = np.where(df['violation_code'].str.contains(top_5_violation_code[i]), 1, 0)    "
   ]
  },
  {
   "cell_type": "code",
   "execution_count": 8,
   "metadata": {},
   "outputs": [],
   "source": [
    "for df in full:\n",
    "    for i in range(len(top_5_violation_street)):\n",
    "        df[\"violation_street\" + \"_\" + top_5_violation_street[i]] = 0\n",
    "        df[\"violation_street\" + \"_\" + top_5_violation_street[i]] = np.where(df['violation_street'].str.contains(top_5_violation_street[i]), 1, 0)    "
   ]
  },
  {
   "cell_type": "code",
   "execution_count": 9,
   "metadata": {},
   "outputs": [],
   "source": [
    "list_agency_name = pd.unique(data_train['agency_name']).tolist()\n",
    "\n",
    "for df in full:\n",
    "    for i in range(len(list_agency_name)):\n",
    "        df[\"agency\" + \"_\" + list_agency_name[i]] = 0\n",
    "        df[\"agency\" + \"_\" + list_agency_name[i]] = np.where(df['agency_name'].str.contains(list_agency_name[i]), 1, 0)    "
   ]
  },
  {
   "cell_type": "code",
   "execution_count": 10,
   "metadata": {},
   "outputs": [
    {
     "name": "stderr",
     "output_type": "stream",
     "text": [
      "C:\\Users\\chloe.chou\\AppData\\Local\\Continuum\\anaconda3\\lib\\site-packages\\ipykernel_launcher.py:6: UserWarning: This pattern has match groups. To actually get the groups, use str.extract.\n",
      "  \n"
     ]
    }
   ],
   "source": [
    "list_disposition = pd.unique(data_train['disposition']).tolist()\n",
    "\n",
    "for df in full:\n",
    "    for i in range(len(list_disposition)):\n",
    "        df[\"disposition\" + \"_\" + list_disposition[i]] = 0\n",
    "        df[\"disposition\" + \"_\" + list_disposition[i]] = np.where(df['disposition'].str.contains(list_disposition[i]), 1, 0)    "
   ]
  },
  {
   "cell_type": "code",
   "execution_count": 11,
   "metadata": {},
   "outputs": [],
   "source": [
    "for df in full:\n",
    "    del df[\"city\"], df[\"state\"], df[\"violation_code\"], df[\"agency_name\"], df[\"disposition\"], df[\"address\"], df[\"violation_street\"]"
   ]
  },
  {
   "cell_type": "code",
   "execution_count": 12,
   "metadata": {},
   "outputs": [
    {
     "name": "stdout",
     "output_type": "stream",
     "text": [
      "---> 3. feature scaling\n"
     ]
    },
    {
     "name": "stderr",
     "output_type": "stream",
     "text": [
      "C:\\Users\\chloe.chou\\AppData\\Local\\Continuum\\anaconda3\\lib\\site-packages\\sklearn\\preprocessing\\data.py:323: DataConversionWarning: Data with input dtype int32, int64, float64 were all converted to float64 by MinMaxScaler.\n",
      "  return self.partial_fit(X, y)\n"
     ]
    }
   ],
   "source": [
    "print(\"---> 3. feature scaling\")\n",
    "from sklearn.model_selection import train_test_split\n",
    "from sklearn.preprocessing import MinMaxScaler\n",
    "y_train = data_train[\"compliance\"]\n",
    "col_keep_1 = data_train.columns.tolist()\n",
    "X_train = data_train[[col for col in col_keep_1 if col not in [\"compliance\"]]]\n",
    "\n",
    "X_train, X_test, y_train, y_test = train_test_split(X_train, y_train, random_state=0)\n",
    "\n",
    "\n",
    "scaler = MinMaxScaler()\n",
    "X_train_scaled = scaler.fit_transform(X_train)\n",
    "# we must apply the scaling to the test set that we computed for the training set\n",
    "X_test_scaled = scaler.transform(X_test)"
   ]
  },
  {
   "cell_type": "code",
   "execution_count": null,
   "metadata": {},
   "outputs": [
    {
     "name": "stdout",
     "output_type": "stream",
     "text": [
      "---> 4. fit model -> keep in mind need to deal with imbalance problem\n",
      "baseline accuracy: 0.8677758318739054\n",
      "cross_val_score: 0.8648403703664551\n"
     ]
    },
    {
     "name": "stderr",
     "output_type": "stream",
     "text": [
      "C:\\Users\\chloe.chou\\AppData\\Local\\Continuum\\anaconda3\\lib\\site-packages\\sklearn\\linear_model\\logistic.py:433: FutureWarning: Default solver will be changed to 'lbfgs' in 0.22. Specify a solver to silence this warning.\n",
      "  FutureWarning)\n"
     ]
    },
    {
     "name": "stdout",
     "output_type": "stream",
     "text": [
      "logistic accuracy: 0.8662747060295222\n",
      "logistic recall: 0.5563623789764869\n"
     ]
    },
    {
     "name": "stderr",
     "output_type": "stream",
     "text": [
      "C:\\Users\\chloe.chou\\AppData\\Local\\Continuum\\anaconda3\\lib\\site-packages\\sklearn\\linear_model\\logistic.py:433: FutureWarning: Default solver will be changed to 'lbfgs' in 0.22. Specify a solver to silence this warning.\n",
      "  FutureWarning)\n",
      "C:\\Users\\chloe.chou\\AppData\\Local\\Continuum\\anaconda3\\lib\\site-packages\\sklearn\\linear_model\\logistic.py:433: FutureWarning: Default solver will be changed to 'lbfgs' in 0.22. Specify a solver to silence this warning.\n",
      "  FutureWarning)\n",
      "C:\\Users\\chloe.chou\\AppData\\Local\\Continuum\\anaconda3\\lib\\site-packages\\sklearn\\linear_model\\logistic.py:433: FutureWarning: Default solver will be changed to 'lbfgs' in 0.22. Specify a solver to silence this warning.\n",
      "  FutureWarning)\n",
      "C:\\Users\\chloe.chou\\AppData\\Local\\Continuum\\anaconda3\\lib\\site-packages\\sklearn\\linear_model\\logistic.py:433: FutureWarning: Default solver will be changed to 'lbfgs' in 0.22. Specify a solver to silence this warning.\n",
      "  FutureWarning)\n",
      "C:\\Users\\chloe.chou\\AppData\\Local\\Continuum\\anaconda3\\lib\\site-packages\\sklearn\\linear_model\\logistic.py:433: FutureWarning: Default solver will be changed to 'lbfgs' in 0.22. Specify a solver to silence this warning.\n",
      "  FutureWarning)\n",
      "C:\\Users\\chloe.chou\\AppData\\Local\\Continuum\\anaconda3\\lib\\site-packages\\sklearn\\linear_model\\logistic.py:433: FutureWarning: Default solver will be changed to 'lbfgs' in 0.22. Specify a solver to silence this warning.\n",
      "  FutureWarning)\n",
      "C:\\Users\\chloe.chou\\AppData\\Local\\Continuum\\anaconda3\\lib\\site-packages\\sklearn\\linear_model\\logistic.py:433: FutureWarning: Default solver will be changed to 'lbfgs' in 0.22. Specify a solver to silence this warning.\n",
      "  FutureWarning)\n",
      "C:\\Users\\chloe.chou\\AppData\\Local\\Continuum\\anaconda3\\lib\\site-packages\\sklearn\\linear_model\\logistic.py:433: FutureWarning: Default solver will be changed to 'lbfgs' in 0.22. Specify a solver to silence this warning.\n",
      "  FutureWarning)\n",
      "C:\\Users\\chloe.chou\\AppData\\Local\\Continuum\\anaconda3\\lib\\site-packages\\sklearn\\linear_model\\logistic.py:433: FutureWarning: Default solver will be changed to 'lbfgs' in 0.22. Specify a solver to silence this warning.\n",
      "  FutureWarning)\n",
      "C:\\Users\\chloe.chou\\AppData\\Local\\Continuum\\anaconda3\\lib\\site-packages\\sklearn\\linear_model\\logistic.py:433: FutureWarning: Default solver will be changed to 'lbfgs' in 0.22. Specify a solver to silence this warning.\n",
      "  FutureWarning)\n"
     ]
    },
    {
     "name": "stdout",
     "output_type": "stream",
     "text": [
      "cross_val_score: 0.8653657122540965\n",
      "knn accuracy: 0.9439663080643816\n",
      "knn recall: 0.23236514522821577\n",
      "knn precision: 0.5704584040747029\n"
     ]
    }
   ],
   "source": [
    "print(\"---> 4. fit model -> keep in mind need to deal with imbalance problem\")\n",
    "\n",
    "\n",
    "\n",
    "# get baseline result\n",
    "from sklearn.dummy import DummyClassifier\n",
    "from sklearn.model_selection import cross_val_score\n",
    "dummy_majority = DummyClassifier(strategy = 'stratified').fit(X_train_scaled, y_train)\n",
    "print(\"baseline accuracy:\", dummy_majority.score(X_test_scaled, y_test))\n",
    "print(\"cross_val_score:\",np.mean(cross_val_score(dummy_majority, X_train_scaled, y_train , cv=10)))\n",
    "\n",
    "# logistic reg accuracy\n",
    "from sklearn.linear_model import LogisticRegression\n",
    "from sklearn.metrics import accuracy_score, precision_score, recall_score, f1_score\n",
    "logistic = LogisticRegression(class_weight = 'balanced', random_state = 0).fit(X_train_scaled, y_train)\n",
    "logistic_pred = logistic.predict(X_test_scaled)\n",
    "print(\"logistic accuracy:\", logistic.score(X_test_scaled, y_test))\n",
    "#print(\"logistic recall:\", recall_score(y_test, logistic_pred))\n",
    "print(\"cross_val_score:\",np.mean(cross_val_score(logistic, X_train_scaled, y_train , cv=10)))\n",
    "\n",
    "# KNN\n",
    "from sklearn.neighbors import KNeighborsClassifier\n",
    "knn = KNeighborsClassifier(n_neighbors = 5).fit(X_train_scaled, y_train)\n",
    "knn_pred = knn.predict(X_test_scaled)\n",
    "print(\"knn accuracy:\", knn.score(X_train_scaled, y_train))\n",
    "#print(\"knn recall:\", recall_score(y_test, knn_pred))\n",
    "#print(\"knn precision:\", precision_score(y_test, knn_pred))\n",
    "print(\"cross_val_score:\", np.mean(cross_val_score(knn, X_train_scaled, y_train , cv=10)))"
   ]
  },
  {
   "cell_type": "code",
   "execution_count": null,
   "metadata": {},
   "outputs": [],
   "source": [
    "# try random forest"
   ]
  },
  {
   "cell_type": "code",
   "execution_count": null,
   "metadata": {
    "collapsed": true
   },
   "outputs": [],
   "source": [
    "# SVM\n",
    "from sklearn.svm import SVC\n",
    "svm = SVC(kernel='rbf', C=1, class_weight = 'balanced').fit(X_train_scaled, y_train)\n",
    "print(\"non-linear svm:\", svm.score(X_test_scaled, y_test))"
   ]
  },
  {
   "cell_type": "code",
   "execution_count": null,
   "metadata": {
    "collapsed": true
   },
   "outputs": [],
   "source": [
    "# count # of na in the columns\n",
    "\n",
    "a = data_train.reset_index()\n",
    "del a[\"index\"]\n",
    "count = 0\n",
    "for i in range(len(a)):\n",
    "    if pd.isnull(a[\"country\"].loc[i]):\n",
    "        count+=1\n",
    "count"
   ]
  },
  {
   "cell_type": "code",
   "execution_count": null,
   "metadata": {},
   "outputs": [],
   "source": [
    "a = data_train[['payment_amount', 'balance_due',\n",
    "                'payment_date', 'payment_status', 'collection_status',\n",
    "                'compliance_detail', 'compliance']]"
   ]
  },
  {
   "cell_type": "code",
   "execution_count": null,
   "metadata": {},
   "outputs": [],
   "source": [
    "data_train.isnull().any()"
   ]
  }
 ],
 "metadata": {
  "coursera": {
   "course_slug": "python-machine-learning",
   "graded_item_id": "nNS8l",
   "launcher_item_id": "yWWk7",
   "part_id": "w8BSS"
  },
  "kernelspec": {
   "display_name": "Python 3",
   "language": "python",
   "name": "python3"
  },
  "language_info": {
   "codemirror_mode": {
    "name": "ipython",
    "version": 3
   },
   "file_extension": ".py",
   "mimetype": "text/x-python",
   "name": "python",
   "nbconvert_exporter": "python",
   "pygments_lexer": "ipython3",
   "version": "3.7.1"
  }
 },
 "nbformat": 4,
 "nbformat_minor": 2
}
