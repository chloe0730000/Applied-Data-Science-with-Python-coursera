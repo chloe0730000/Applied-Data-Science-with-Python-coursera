{
 "cells": [
  {
   "cell_type": "code",
   "execution_count": 1,
   "metadata": {},
   "outputs": [
    {
     "name": "stdout",
     "output_type": "stream",
     "text": [
      "3\n",
      "6\n"
     ]
    }
   ],
   "source": [
    "############################\n",
    "# Function\n",
    "############################\n",
    "\n",
    "def add_numbers(x,y,z=None):\n",
    "    if (z==None):\n",
    "        return x+y\n",
    "    else:\n",
    "        return x+y+z\n",
    "\n",
    "print(add_numbers(1, 2))\n",
    "print(add_numbers(1, 2, 3))"
   ]
  },
  {
   "cell_type": "code",
   "execution_count": 2,
   "metadata": {},
   "outputs": [
    {
     "name": "stdout",
     "output_type": "stream",
     "text": [
      "[1, 3, 4, 5, 6]\n"
     ]
    }
   ],
   "source": [
    "############################\n",
    "# Check type\n",
    "# [tuple cannot be altered, but list can]\n",
    "############################\n",
    "\n",
    "\n",
    "x = (1, 'a', 2, 'b')\n",
    "type(x)\n",
    "\n",
    "\n",
    "x = [1,3,4,5]\n",
    "type(x)\n",
    "\n",
    "x.append(6)\n",
    "print(x)\n",
    "\n"
   ]
  },
  {
   "cell_type": "code",
   "execution_count": 3,
   "metadata": {},
   "outputs": [
    {
     "name": "stdout",
     "output_type": "stream",
     "text": [
      "1\n",
      "3\n",
      "4\n",
      "5\n",
      "6\n",
      "1\n",
      "3\n",
      "4\n",
      "5\n",
      "6\n"
     ]
    },
    {
     "data": {
      "text/plain": [
       "[1, 1, 1]"
      ]
     },
     "execution_count": 3,
     "metadata": {},
     "output_type": "execute_result"
    }
   ],
   "source": [
    "############################\n",
    "# Loop & While\n",
    "############################\n",
    "\n",
    "\n",
    "# loop & while\n",
    "for i in x:\n",
    "    print(i)\n",
    "    \n",
    "    \n",
    "i=0\n",
    "while(i != len(x)):\n",
    "    print(x[i])\n",
    "    i = i + 1\n",
    "\n",
    "# concate list\n",
    "[1,2] + [3,4]\n",
    "\n",
    "# repeat\n",
    "[1]*3\n"
   ]
  },
  {
   "cell_type": "code",
   "execution_count": 4,
   "metadata": {},
   "outputs": [
    {
     "data": {
      "text/plain": [
       "'Brooks'"
      ]
     },
     "execution_count": 4,
     "metadata": {},
     "output_type": "execute_result"
    }
   ],
   "source": [
    "############################\n",
    "# Check element in list\n",
    "############################\n",
    "\n",
    "1 in [1,2,3]\n",
    "import re\n",
    "re.search(\"Chloe\", \"Chloe Chou\", re.IGNORECASE)!=None\n",
    "\n",
    "'Christopher Arthur Hansen Brooks'.split(' ')[0]\n",
    "'Christopher Arthur Hansen Brooks'.split(' ')[-1]\n"
   ]
  },
  {
   "cell_type": "code",
   "execution_count": 5,
   "metadata": {},
   "outputs": [
    {
     "name": "stdout",
     "output_type": "stream",
     "text": [
      "brooksch@umich.edu\n",
      "billg@microsoft.com\n",
      "brooksch@umich.edu\n",
      "billg@microsoft.com\n",
      "Christopher Brooks\n",
      "Bill Gates\n",
      "Christopher Brooks : brooksch@umich.edu\n",
      "Bill Gates : billg@microsoft.com\n"
     ]
    }
   ],
   "source": [
    "\n",
    "############################\n",
    "# Dictionary (keys, values)\n",
    "############################\n",
    "\n",
    "\n",
    "x = {'Christopher Brooks': 'brooksch@umich.edu', 'Bill Gates': 'billg@microsoft.com'}\n",
    "x['Christopher Brooks'] # Retrieve a value by using the indexing operator\n",
    "\n",
    "# get the email\n",
    "for name in x:\n",
    "    print(x[name])\n",
    "\n",
    "for email in x.values():\n",
    "    print(email)\n",
    "for name in x.keys():\n",
    "    print(name)\n",
    "\n",
    "for name, email in x.items():\n",
    "    print(name+\" : \"+email)\n",
    "\n",
    "# Unpack a sequence into different variables\n",
    "x = ('Christopher', 'Brooks', 'brooksch@umich.edu')\n",
    "fname, lname, email = x\n"
   ]
  },
  {
   "cell_type": "code",
   "execution_count": 6,
   "metadata": {},
   "outputs": [
    {
     "data": {
      "text/plain": [
       "'2019-02-13'"
      ]
     },
     "execution_count": 6,
     "metadata": {},
     "output_type": "execute_result"
    }
   ],
   "source": [
    "\n",
    "############################\n",
    "# time (current time & previous date)\n",
    "############################\n",
    "\n",
    "import time\n",
    "import datetime\n",
    "time.time()\n",
    "dtnow = datetime.datetime.fromtimestamp(time.time())\n",
    "dtnow.year, dtnow.month, dtnow.day, dtnow.hour, dtnow.minute, dtnow.second\n",
    "\"%s-%02d-%s\" %(dtnow.year, dtnow.month, dtnow.day)\n",
    "\n",
    "(datetime.datetime.now() - datetime.timedelta(days=1)).strftime(\"%Y-%m-%d\")\n",
    "\n"
   ]
  },
  {
   "cell_type": "code",
   "execution_count": 7,
   "metadata": {},
   "outputs": [
    {
     "data": {
      "text/plain": [
       "3"
      ]
     },
     "execution_count": 7,
     "metadata": {},
     "output_type": "execute_result"
    }
   ],
   "source": [
    "\n",
    "############################\n",
    "# lambda\n",
    "############################\n",
    "\n",
    "my_function = lambda a, b, c : a + b\n",
    "my_function(1,2,3)\n",
    "\n"
   ]
  },
  {
   "cell_type": "code",
   "execution_count": 8,
   "metadata": {
    "collapsed": true
   },
   "outputs": [],
   "source": [
    "############################\n",
    "# iterate\n",
    "############################\n",
    "my_list = []\n",
    "for number in range(0, 1000):\n",
    "    if number % 2 == 0:\n",
    "        my_list.append(number)\n",
    "my_list\n",
    "\n",
    "my_list = [number for number in range(0,1000) if number % 2 == 0]\n",
    "\n"
   ]
  },
  {
   "cell_type": "code",
   "execution_count": null,
   "metadata": {
    "collapsed": true
   },
   "outputs": [],
   "source": []
  }
 ],
 "metadata": {
  "kernelspec": {
   "display_name": "Python 3",
   "language": "python",
   "name": "python3"
  },
  "language_info": {
   "codemirror_mode": {
    "name": "ipython",
    "version": 3
   },
   "file_extension": ".py",
   "mimetype": "text/x-python",
   "name": "python",
   "nbconvert_exporter": "python",
   "pygments_lexer": "ipython3",
   "version": "3.6.2"
  }
 },
 "nbformat": 4,
 "nbformat_minor": 2
}
